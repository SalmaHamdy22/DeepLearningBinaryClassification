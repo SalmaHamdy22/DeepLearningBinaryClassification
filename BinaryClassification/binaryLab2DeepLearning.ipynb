{
 "cells": [
  {
   "cell_type": "code",
   "execution_count": 95,
   "id": "008f52da",
   "metadata": {},
   "outputs": [],
   "source": [
    "import pandas as pd\n",
    "from sklearn.model_selection import train_test_split\n",
    "from sklearn.preprocessing import StandardScaler\n",
    "import tensorflow as tf\n",
    "from tensorflow.keras.models import Sequential\n",
    "from tensorflow.keras.layers import Dense, Dropout\n",
    "import matplotlib.pyplot as plt\n",
    "from sklearn.metrics import confusion_matrix, classification_report, roc_auc_score, roc_curve\n",
    "import seaborn as sns\n",
    "from kerastuner.tuners import RandomSearch\n",
    "from tensorflow.keras.layers import BatchNormalization"
   ]
  },
  {
   "cell_type": "code",
   "execution_count": 96,
   "id": "b093b237",
   "metadata": {},
   "outputs": [],
   "source": [
    "# Loading the Data\n",
    "data = pd.read_csv(\"C:/Users/Salma/Downloads/heart_disease_health_indicators.csv\")"
   ]
  },
  {
   "cell_type": "code",
   "execution_count": 97,
   "id": "e73a075d",
   "metadata": {},
   "outputs": [
    {
     "data": {
      "text/html": [
       "<div>\n",
       "<style scoped>\n",
       "    .dataframe tbody tr th:only-of-type {\n",
       "        vertical-align: middle;\n",
       "    }\n",
       "\n",
       "    .dataframe tbody tr th {\n",
       "        vertical-align: top;\n",
       "    }\n",
       "\n",
       "    .dataframe thead th {\n",
       "        text-align: right;\n",
       "    }\n",
       "</style>\n",
       "<table border=\"1\" class=\"dataframe\">\n",
       "  <thead>\n",
       "    <tr style=\"text-align: right;\">\n",
       "      <th></th>\n",
       "      <th>HeartDiseaseorAttack</th>\n",
       "      <th>HighBP</th>\n",
       "      <th>HighChol</th>\n",
       "      <th>CholCheck</th>\n",
       "      <th>BMI</th>\n",
       "      <th>Smoker</th>\n",
       "      <th>Stroke</th>\n",
       "      <th>Diabetes</th>\n",
       "      <th>PhysActivity</th>\n",
       "      <th>Fruits</th>\n",
       "      <th>...</th>\n",
       "      <th>AnyHealthcare</th>\n",
       "      <th>NoDocbcCost</th>\n",
       "      <th>GenHlth</th>\n",
       "      <th>MentHlth</th>\n",
       "      <th>PhysHlth</th>\n",
       "      <th>DiffWalk</th>\n",
       "      <th>Sex</th>\n",
       "      <th>Age</th>\n",
       "      <th>Education</th>\n",
       "      <th>Income</th>\n",
       "    </tr>\n",
       "  </thead>\n",
       "  <tbody>\n",
       "    <tr>\n",
       "      <th>0</th>\n",
       "      <td>0</td>\n",
       "      <td>1</td>\n",
       "      <td>1</td>\n",
       "      <td>1</td>\n",
       "      <td>40</td>\n",
       "      <td>1</td>\n",
       "      <td>0</td>\n",
       "      <td>0</td>\n",
       "      <td>0</td>\n",
       "      <td>0</td>\n",
       "      <td>...</td>\n",
       "      <td>1</td>\n",
       "      <td>0</td>\n",
       "      <td>5</td>\n",
       "      <td>18</td>\n",
       "      <td>15</td>\n",
       "      <td>1</td>\n",
       "      <td>0</td>\n",
       "      <td>9</td>\n",
       "      <td>4</td>\n",
       "      <td>3</td>\n",
       "    </tr>\n",
       "    <tr>\n",
       "      <th>1</th>\n",
       "      <td>0</td>\n",
       "      <td>0</td>\n",
       "      <td>0</td>\n",
       "      <td>0</td>\n",
       "      <td>25</td>\n",
       "      <td>1</td>\n",
       "      <td>0</td>\n",
       "      <td>0</td>\n",
       "      <td>1</td>\n",
       "      <td>0</td>\n",
       "      <td>...</td>\n",
       "      <td>0</td>\n",
       "      <td>1</td>\n",
       "      <td>3</td>\n",
       "      <td>0</td>\n",
       "      <td>0</td>\n",
       "      <td>0</td>\n",
       "      <td>0</td>\n",
       "      <td>7</td>\n",
       "      <td>6</td>\n",
       "      <td>1</td>\n",
       "    </tr>\n",
       "    <tr>\n",
       "      <th>2</th>\n",
       "      <td>0</td>\n",
       "      <td>1</td>\n",
       "      <td>1</td>\n",
       "      <td>1</td>\n",
       "      <td>28</td>\n",
       "      <td>0</td>\n",
       "      <td>0</td>\n",
       "      <td>0</td>\n",
       "      <td>0</td>\n",
       "      <td>1</td>\n",
       "      <td>...</td>\n",
       "      <td>1</td>\n",
       "      <td>1</td>\n",
       "      <td>5</td>\n",
       "      <td>30</td>\n",
       "      <td>30</td>\n",
       "      <td>1</td>\n",
       "      <td>0</td>\n",
       "      <td>9</td>\n",
       "      <td>4</td>\n",
       "      <td>8</td>\n",
       "    </tr>\n",
       "    <tr>\n",
       "      <th>3</th>\n",
       "      <td>0</td>\n",
       "      <td>1</td>\n",
       "      <td>0</td>\n",
       "      <td>1</td>\n",
       "      <td>27</td>\n",
       "      <td>0</td>\n",
       "      <td>0</td>\n",
       "      <td>0</td>\n",
       "      <td>1</td>\n",
       "      <td>1</td>\n",
       "      <td>...</td>\n",
       "      <td>1</td>\n",
       "      <td>0</td>\n",
       "      <td>2</td>\n",
       "      <td>0</td>\n",
       "      <td>0</td>\n",
       "      <td>0</td>\n",
       "      <td>0</td>\n",
       "      <td>11</td>\n",
       "      <td>3</td>\n",
       "      <td>6</td>\n",
       "    </tr>\n",
       "    <tr>\n",
       "      <th>4</th>\n",
       "      <td>0</td>\n",
       "      <td>1</td>\n",
       "      <td>1</td>\n",
       "      <td>1</td>\n",
       "      <td>24</td>\n",
       "      <td>0</td>\n",
       "      <td>0</td>\n",
       "      <td>0</td>\n",
       "      <td>1</td>\n",
       "      <td>1</td>\n",
       "      <td>...</td>\n",
       "      <td>1</td>\n",
       "      <td>0</td>\n",
       "      <td>2</td>\n",
       "      <td>3</td>\n",
       "      <td>0</td>\n",
       "      <td>0</td>\n",
       "      <td>0</td>\n",
       "      <td>11</td>\n",
       "      <td>5</td>\n",
       "      <td>4</td>\n",
       "    </tr>\n",
       "  </tbody>\n",
       "</table>\n",
       "<p>5 rows × 22 columns</p>\n",
       "</div>"
      ],
      "text/plain": [
       "   HeartDiseaseorAttack  HighBP  HighChol  CholCheck  BMI  Smoker  Stroke  \\\n",
       "0                     0       1         1          1   40       1       0   \n",
       "1                     0       0         0          0   25       1       0   \n",
       "2                     0       1         1          1   28       0       0   \n",
       "3                     0       1         0          1   27       0       0   \n",
       "4                     0       1         1          1   24       0       0   \n",
       "\n",
       "   Diabetes  PhysActivity  Fruits  ...  AnyHealthcare  NoDocbcCost  GenHlth  \\\n",
       "0         0             0       0  ...              1            0        5   \n",
       "1         0             1       0  ...              0            1        3   \n",
       "2         0             0       1  ...              1            1        5   \n",
       "3         0             1       1  ...              1            0        2   \n",
       "4         0             1       1  ...              1            0        2   \n",
       "\n",
       "   MentHlth  PhysHlth  DiffWalk  Sex  Age  Education  Income  \n",
       "0        18        15         1    0    9          4       3  \n",
       "1         0         0         0    0    7          6       1  \n",
       "2        30        30         1    0    9          4       8  \n",
       "3         0         0         0    0   11          3       6  \n",
       "4         3         0         0    0   11          5       4  \n",
       "\n",
       "[5 rows x 22 columns]"
      ]
     },
     "execution_count": 97,
     "metadata": {},
     "output_type": "execute_result"
    }
   ],
   "source": [
    "data.head()"
   ]
  },
  {
   "cell_type": "code",
   "execution_count": 98,
   "id": "343e020d",
   "metadata": {},
   "outputs": [
    {
     "data": {
      "text/plain": [
       "0    229773\n",
       "1     23888\n",
       "Name: HeartDiseaseorAttack, dtype: int64"
      ]
     },
     "execution_count": 98,
     "metadata": {},
     "output_type": "execute_result"
    }
   ],
   "source": [
    "# It seems that the data is unbalanced\n",
    "data['HeartDiseaseorAttack'].value_counts()"
   ]
  },
  {
   "cell_type": "code",
   "execution_count": 99,
   "id": "fd6f0797",
   "metadata": {},
   "outputs": [],
   "source": [
    "# Dropping null values\n",
    "data = data.dropna()"
   ]
  },
  {
   "cell_type": "code",
   "execution_count": 100,
   "id": "2fd1a38e",
   "metadata": {},
   "outputs": [],
   "source": [
    "# Separate features and target\n",
    "X = data.drop(columns=['HeartDiseaseorAttack'])\n",
    "y = data['HeartDiseaseorAttack']\n",
    "\n",
    "# Scale the features\n",
    "scaler = StandardScaler()\n",
    "X_scaled = scaler.fit_transform(X)"
   ]
  },
  {
   "cell_type": "code",
   "execution_count": 101,
   "id": "190daab3",
   "metadata": {},
   "outputs": [],
   "source": [
    "# Split into training and testing sets (80% training, 20% testing)\n",
    "X_train, X_test, y_train, y_test = train_test_split(X_scaled, y, test_size=0.2, random_state=42)"
   ]
  },
  {
   "cell_type": "code",
   "execution_count": 102,
   "id": "9f7b75c3",
   "metadata": {},
   "outputs": [],
   "source": [
    "# Define the model-building function for Keras Tuner\n",
    "def model_builder(hp):\n",
    "    model = Sequential()\n",
    "    \n",
    "    # Tune the number of units in the first Dense layer\n",
    "    hp_units1 = hp.Int('units1', min_value=32, max_value=128, step=32)\n",
    "    model.add(Dense(units=hp_units1, activation='sigmoid', input_shape=(X_train.shape[1],)))\n",
    "    \n",
    "    model.add(BatchNormalization()) # Weight normalization\n",
    "    \n",
    "    # Second hidden layer \n",
    "    hp_units2 = hp.Int('units2', min_value=32, max_value=128, step=32)\n",
    "    model.add(Dense(units=hp_units2, activation='sigmoid'))\n",
    "    \n",
    "    model.add(BatchNormalization()) # Weight normalization\n",
    "    \n",
    "    # Add Dropout layer with tuneable rate\n",
    "    hp_dropout = hp.Float('dropout_rate', min_value=0.1, max_value=0.5, step=0.1)\n",
    "    model.add(Dropout(hp_dropout))\n",
    "    \n",
    "    # Third hidden layer\n",
    "    hp_units3 = hp.Int('units3', min_value=32, max_value=128, step=32)\n",
    "    model.add(Dense(units=hp_units3, activation='sigmoid'))\n",
    "    \n",
    "    model.add(BatchNormalization()) # Weight normalization\n",
    "    \n",
    "    # Output layer\n",
    "    model.add(Dense(1, activation='sigmoid'))  # Binary classification\n",
    "    \n",
    "    # Compile the model\n",
    "    model.compile(optimizer='adam',\n",
    "                  loss='binary_crossentropy',\n",
    "                  metrics=['accuracy'])\n",
    "    \n",
    "    return model\n"
   ]
  },
  {
   "cell_type": "code",
   "execution_count": 103,
   "id": "2a148d65",
   "metadata": {},
   "outputs": [
    {
     "name": "stdout",
     "output_type": "stream",
     "text": [
      "Trial 5 Complete [00h 04m 00s]\n",
      "val_accuracy: 0.9083550870418549\n",
      "\n",
      "Best val_accuracy So Far: 0.9084413349628448\n",
      "Total elapsed time: 00h 19m 11s\n"
     ]
    }
   ],
   "source": [
    "# Initialize the tuner\n",
    "tuner = RandomSearch(\n",
    "    model_builder,\n",
    "    objective='val_accuracy',\n",
    "    max_trials=5,  \n",
    "    executions_per_trial=2,  # Number of models to build and average the results\n",
    "    directory='heart_disease_tuning',\n",
    "    project_name='heart_disease_prediction3.2')\n",
    "\n",
    "# Searching for the best hyperparameters\n",
    "X_train, X_val, y_train, y_val = train_test_split(X_train, y_train, test_size=0.2, random_state=42) # Splitting data into train and validate sets\n",
    "tuner.search(X_train, y_train, epochs=10, validation_data=(X_val, y_val))"
   ]
  },
  {
   "cell_type": "code",
   "execution_count": 104,
   "id": "27e68856",
   "metadata": {},
   "outputs": [],
   "source": [
    "# Get the best model with the best hyperparameters\n",
    "best_hps = tuner.get_best_hyperparameters(num_trials=1)[0]\n",
    "model = tuner.hypermodel.build(best_hps)"
   ]
  },
  {
   "cell_type": "code",
   "execution_count": 105,
   "id": "798b9418",
   "metadata": {},
   "outputs": [
    {
     "name": "stdout",
     "output_type": "stream",
     "text": [
      "Epoch 1/30\n",
      "5074/5074 [==============================] - 12s 2ms/step - loss: 0.2569 - accuracy: 0.9015 - val_loss: 0.2511 - val_accuracy: 0.9061\n",
      "Epoch 2/30\n",
      "5074/5074 [==============================] - 11s 2ms/step - loss: 0.2455 - accuracy: 0.9056 - val_loss: 0.2404 - val_accuracy: 0.9085\n",
      "Epoch 3/30\n",
      "5074/5074 [==============================] - 11s 2ms/step - loss: 0.2447 - accuracy: 0.9055 - val_loss: 0.2396 - val_accuracy: 0.9068\n",
      "Epoch 4/30\n",
      "5074/5074 [==============================] - 10s 2ms/step - loss: 0.2438 - accuracy: 0.9057 - val_loss: 0.2430 - val_accuracy: 0.9077\n",
      "Epoch 5/30\n",
      "5074/5074 [==============================] - 10s 2ms/step - loss: 0.2431 - accuracy: 0.9060 - val_loss: 0.2404 - val_accuracy: 0.9080\n",
      "Epoch 6/30\n",
      "5074/5074 [==============================] - 10s 2ms/step - loss: 0.2426 - accuracy: 0.9061 - val_loss: 0.2392 - val_accuracy: 0.9079\n",
      "Epoch 7/30\n",
      "5074/5074 [==============================] - 10s 2ms/step - loss: 0.2420 - accuracy: 0.9066 - val_loss: 0.2396 - val_accuracy: 0.9083\n",
      "Epoch 8/30\n",
      "5074/5074 [==============================] - 10s 2ms/step - loss: 0.2419 - accuracy: 0.9068 - val_loss: 0.2396 - val_accuracy: 0.9083\n",
      "Epoch 9/30\n",
      "5074/5074 [==============================] - 11s 2ms/step - loss: 0.2411 - accuracy: 0.9067 - val_loss: 0.2439 - val_accuracy: 0.9041\n",
      "Epoch 10/30\n",
      "5074/5074 [==============================] - 10s 2ms/step - loss: 0.2406 - accuracy: 0.9066 - val_loss: 0.2408 - val_accuracy: 0.9079\n",
      "Epoch 11/30\n",
      "5074/5074 [==============================] - 11s 2ms/step - loss: 0.2404 - accuracy: 0.9072 - val_loss: 0.2395 - val_accuracy: 0.9082\n",
      "Epoch 12/30\n",
      "5074/5074 [==============================] - 10s 2ms/step - loss: 0.2403 - accuracy: 0.9066 - val_loss: 0.2411 - val_accuracy: 0.9074\n",
      "Epoch 13/30\n",
      "5074/5074 [==============================] - 10s 2ms/step - loss: 0.2402 - accuracy: 0.9070 - val_loss: 0.2401 - val_accuracy: 0.9073\n",
      "Epoch 14/30\n",
      "5074/5074 [==============================] - 11s 2ms/step - loss: 0.2397 - accuracy: 0.9074 - val_loss: 0.2401 - val_accuracy: 0.9081\n",
      "Epoch 15/30\n",
      "5074/5074 [==============================] - 10s 2ms/step - loss: 0.2391 - accuracy: 0.9073 - val_loss: 0.2394 - val_accuracy: 0.9083\n",
      "Epoch 16/30\n",
      "5074/5074 [==============================] - 10s 2ms/step - loss: 0.2394 - accuracy: 0.9074 - val_loss: 0.2392 - val_accuracy: 0.9083\n",
      "Epoch 17/30\n",
      "5074/5074 [==============================] - 11s 2ms/step - loss: 0.2391 - accuracy: 0.9072 - val_loss: 0.2398 - val_accuracy: 0.9082\n",
      "Epoch 18/30\n",
      "5074/5074 [==============================] - 10s 2ms/step - loss: 0.2390 - accuracy: 0.9071 - val_loss: 0.2388 - val_accuracy: 0.9085\n",
      "Epoch 19/30\n",
      "5074/5074 [==============================] - 10s 2ms/step - loss: 0.2391 - accuracy: 0.9073 - val_loss: 0.2388 - val_accuracy: 0.9083\n",
      "Epoch 20/30\n",
      "5074/5074 [==============================] - 10s 2ms/step - loss: 0.2388 - accuracy: 0.9075 - val_loss: 0.2391 - val_accuracy: 0.9084\n",
      "Epoch 21/30\n",
      "5074/5074 [==============================] - 11s 2ms/step - loss: 0.2389 - accuracy: 0.9076 - val_loss: 0.2392 - val_accuracy: 0.9085\n",
      "Epoch 22/30\n",
      "5074/5074 [==============================] - 11s 2ms/step - loss: 0.2385 - accuracy: 0.9072 - val_loss: 0.2404 - val_accuracy: 0.9082\n",
      "Epoch 23/30\n",
      "5074/5074 [==============================] - 11s 2ms/step - loss: 0.2381 - accuracy: 0.9076 - val_loss: 0.2389 - val_accuracy: 0.9082\n",
      "Epoch 24/30\n",
      "5074/5074 [==============================] - 10s 2ms/step - loss: 0.2379 - accuracy: 0.9079 - val_loss: 0.2387 - val_accuracy: 0.9084\n",
      "Epoch 25/30\n",
      "5074/5074 [==============================] - 11s 2ms/step - loss: 0.2377 - accuracy: 0.9079 - val_loss: 0.2397 - val_accuracy: 0.9073\n",
      "Epoch 26/30\n",
      "5074/5074 [==============================] - 11s 2ms/step - loss: 0.2374 - accuracy: 0.9077 - val_loss: 0.2399 - val_accuracy: 0.9080\n",
      "Epoch 27/30\n",
      "5074/5074 [==============================] - 10s 2ms/step - loss: 0.2374 - accuracy: 0.9076 - val_loss: 0.2394 - val_accuracy: 0.9081\n",
      "Epoch 28/30\n",
      "5074/5074 [==============================] - 10s 2ms/step - loss: 0.2375 - accuracy: 0.9079 - val_loss: 0.2397 - val_accuracy: 0.9086\n",
      "Epoch 29/30\n",
      "5074/5074 [==============================] - 11s 2ms/step - loss: 0.2375 - accuracy: 0.9076 - val_loss: 0.2392 - val_accuracy: 0.9079\n",
      "Epoch 30/30\n",
      "5074/5074 [==============================] - 10s 2ms/step - loss: 0.2373 - accuracy: 0.9076 - val_loss: 0.2390 - val_accuracy: 0.9086\n"
     ]
    }
   ],
   "source": [
    "# Train the best model\n",
    "history = model.fit(X_train, y_train, validation_data=(X_val, y_val), epochs=30, batch_size=32)"
   ]
  },
  {
   "cell_type": "code",
   "execution_count": 106,
   "id": "43590923",
   "metadata": {},
   "outputs": [
    {
     "name": "stdout",
     "output_type": "stream",
     "text": [
      "1586/1586 [==============================] - 2s 1ms/step\n"
     ]
    },
    {
     "data": {
      "image/png": "[encoded data removed]",
      "text/plain": [
       "<Figure size 640x480 with 2 Axes>"
      ]
     },
     "metadata": {},
     "output_type": "display_data"
    },
    {
     "name": "stdout",
     "output_type": "stream",
     "text": [
      "              precision    recall  f1-score   support\n",
      "\n",
      "           0       0.91      0.99      0.95     46040\n",
      "           1       0.56      0.08      0.15      4693\n",
      "\n",
      "    accuracy                           0.91     50733\n",
      "   macro avg       0.74      0.54      0.55     50733\n",
      "weighted avg       0.88      0.91      0.88     50733\n",
      "\n",
      "1586/1586 [==============================] - 2s 1ms/step\n"
     ]
    },
    {
     "data": {
      "image/png": "[encoded data removed]",
      "text/plain": [
       "<Figure size 640x480 with 1 Axes>"
      ]
     },
     "metadata": {},
     "output_type": "display_data"
    },
    {
     "name": "stdout",
     "output_type": "stream",
     "text": [
      "ROC-AUC Score: 0.85\n"
     ]
    }
   ],
   "source": [
    "# Confusion Matrix\n",
    "y_pred = (model.predict(X_test) > 0.5).astype('int32')\n",
    "cm = confusion_matrix(y_test, y_pred)\n",
    "sns.heatmap(cm, annot=True, fmt='d')\n",
    "plt.title('Confusion Matrix')\n",
    "plt.savefig(r\"C:\\Users\\Salma\\Desktop\\Confusion Matrix.png\", format='png')\n",
    "plt.show()\n",
    "\n",
    "# Classification Report\n",
    "print(classification_report(y_test, y_pred))\n",
    "\n",
    "# ROC-AUC Curve\n",
    "y_pred_prob = model.predict(X_test)\n",
    "fpr, tpr, thresholds = roc_curve(y_test, y_pred_prob)\n",
    "plt.plot(fpr, tpr, label='ROC curve')\n",
    "plt.xlabel('False Positive Rate')\n",
    "plt.ylabel('True Positive Rate')\n",
    "plt.title('ROC Curve')\n",
    "plt.savefig(r\"C:\\Users\\Salma\\Desktop\\ROC Curve.png\", format='png')\n",
    "plt.show()\n",
    "\n",
    "# ROC-AUC Score\n",
    "auc_score = roc_auc_score(y_test, y_pred_prob)\n",
    "print(f'ROC-AUC Score: {auc_score:.2f}')"
   ]
  },
  {
   "cell_type": "code",
   "execution_count": 107,
   "id": "865d6732",
   "metadata": {},
   "outputs": [
    {
     "name": "stdout",
     "output_type": "stream",
     "text": [
      "1586/1586 [==============================] - 2s 1ms/step - loss: 0.2347 - accuracy: 0.9091\n",
      "Test Accuracy: 0.91\n"
     ]
    }
   ],
   "source": [
    "# Evaluate the model\n",
    "loss, accuracy = model.evaluate(X_test, y_test)\n",
    "print(f'Test Accuracy: {accuracy:.2f}')"
   ]
  },
  {
   "cell_type": "code",
   "execution_count": 109,
   "id": "d3eec5a0",
   "metadata": {},
   "outputs": [
    {
     "data": {
      "image/png": "[encoded data removed]",
      "text/plain": [
       "<Figure size 640x480 with 1 Axes>"
      ]
     },
     "metadata": {},
     "output_type": "display_data"
    }
   ],
   "source": [
    "# Visualize Training and Validation Loss\n",
    "plt.plot(history.history['loss'], label='Training Loss')\n",
    "plt.plot(history.history['val_loss'], label='Validation Loss')\n",
    "plt.title('Training and Validation Loss')\n",
    "plt.xlabel('Epochs')\n",
    "plt.ylabel('Loss')\n",
    "plt.legend()\n",
    "plt.savefig(r\"C:\\Users\\Salma\\Desktop\\Lossplot.png\", format='png')\n",
    "plt.show()\n"
   ]
  }
 ],
 "metadata": {
  "kernelspec": {
   "display_name": "Python 3 (ipykernel)",
   "language": "python",
   "name": "python3"
  },
  "language_info": {
   "codemirror_mode": {
    "name": "ipython",
    "version": 3
   },
   "file_extension": ".py",
   "mimetype": "text/x-python",
   "name": "python",
   "nbconvert_exporter": "python",
   "pygments_lexer": "ipython3",
   "version": "3.11.4"
  }
 },
 "nbformat": 4,
 "nbformat_minor": 5
}
